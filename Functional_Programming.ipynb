{
 "cells": [
  {
   "cell_type": "markdown",
   "metadata": {},
   "source": [
    "# Functional Programming\n",
    "\n",
    "A pure function is a function whose output value follows solely from its input values, without any observable side effects. In functional programming, a program consists entirely of evaluation of pure functions. Computation proceeds by nested or composed function calls, without changes to state or mutable data.\n",
    "\n",
    "The functional paradigm is popular because it offers several advantages over other programming paradigms. Functional code is:\n",
    "\n",
    "* High level: You’re describing the result you want rather than explicitly specifying the steps required to get there. Single statements tend to be concise but pack a lot of punch.\n",
    "\n",
    "* Transparent: The behavior of a pure function depends only on its inputs and outputs, without intermediary values. That eliminates the possibility of side effects, which facilitates debugging.\n",
    "\n",
    "* Parallelizable: Routines that don’t cause side effects can more easily run in parallel with one another."
   ]
  },
  {
   "cell_type": "markdown",
   "metadata": {},
   "source": [
    "## First-Class Objects\n",
    "\n",
    "First-class objects means that functions can be passed and used as arguments, just like regular objects such as `int`, `str`, `float` etc.\n",
    "\n",
    "In the following example we will see a function (`say_hello()`) be passed ass an argument within another function (`greet_bob()`)."
   ]
  },
  {
   "cell_type": "code",
   "execution_count": 2,
   "metadata": {},
   "outputs": [
    {
     "data": {
      "text/plain": [
       "'Hello Bob'"
      ]
     },
     "execution_count": 2,
     "metadata": {},
     "output_type": "execute_result"
    }
   ],
   "source": [
    "# Regular function\n",
    "def say_hello(name:str):\n",
    "    return f\"Hello {name}\"\n",
    "\n",
    "# Function which requires function as input argument\n",
    "def greet_bob(greeter_func):\n",
    "    return greeter_func(\"Bob\")\n",
    "\n",
    "greet_bob(say_hello)"
   ]
  },
  {
   "cell_type": "markdown",
   "metadata": {},
   "source": [
    "`say_hello()` is a regular function that expects a name as an input, whereas `greet_bob()` expects a function as its input. We can make many other functions to pass within `greet_bob()`"
   ]
  },
  {
   "cell_type": "code",
   "execution_count": 6,
   "metadata": {},
   "outputs": [
    {
     "name": "stdout",
     "output_type": "stream",
     "text": [
      "Hey Bob! I'm so happy to see you!\n",
      "Bob.......\n"
     ]
    }
   ],
   "source": [
    "# Another greeting\n",
    "def be_excited(name:str):\n",
    "    print(f\"Hey {name}! I'm so happy to see you!\")\n",
    "\n",
    "greet_bob(be_excited)\n",
    "\n",
    "# And another greeting\n",
    "def dont_like_them(name:str):\n",
    "    print(f\"{name}.......\")\n",
    "\n",
    "greet_bob(dont_like_them)"
   ]
  },
  {
   "cell_type": "markdown",
   "metadata": {},
   "source": [
    "## Inner Functions\n",
    "\n",
    "Inner functions are functions where another function is defined within the forementioned function:"
   ]
  },
  {
   "cell_type": "code",
   "execution_count": 46,
   "metadata": {},
   "outputs": [
    {
     "name": "stdout",
     "output_type": "stream",
     "text": [
      "Printing from parent()\n",
      "Printing from first_child()\n",
      "Printing from second_child()\n"
     ]
    }
   ],
   "source": [
    "def parent():\n",
    "    print(\"Printing from parent()\")\n",
    "\n",
    "    def first_child():\n",
    "        print(\"Printing from first_child()\")\n",
    "    \n",
    "    def second_child():\n",
    "        print(\"Printing from second_child()\")\n",
    "    \n",
    "    first_child()\n",
    "    second_child()\n",
    "\n",
    "parent()"
   ]
  },
  {
   "cell_type": "markdown",
   "metadata": {},
   "source": [
    "In this function, `first_child()` and `secound_child()` are local functions within the global function, `parent()`. They only exist within `parent()` and cannot be called upon outside that function."
   ]
  },
  {
   "cell_type": "code",
   "execution_count": 47,
   "metadata": {},
   "outputs": [],
   "source": [
    "def parent(num):\n",
    "    def first_child():\n",
    "        return \"Hi, I'm Bob\"\n",
    "\n",
    "    def second_child():\n",
    "        return \"Call me Rob\"\n",
    "\n",
    "    if num == 1:\n",
    "        return first_child\n",
    "    else:\n",
    "        return second_child"
   ]
  },
  {
   "cell_type": "markdown",
   "metadata": {},
   "source": [
    "In this function we must note that we return the child-functions without parenthenses, which means we reference the function rather than call on it like we did in the first function"
   ]
  },
  {
   "cell_type": "code",
   "execution_count": 52,
   "metadata": {},
   "outputs": [
    {
     "data": {
      "text/plain": [
       "<function __main__.parent.<locals>.first_child()>"
      ]
     },
     "execution_count": 52,
     "metadata": {},
     "output_type": "execute_result"
    }
   ],
   "source": [
    "first = parent(1)\n",
    "second = parent(2)\n",
    "\n",
    "first"
   ]
  },
  {
   "cell_type": "code",
   "execution_count": 53,
   "metadata": {},
   "outputs": [
    {
     "data": {
      "text/plain": [
       "'Call me Rob'"
      ]
     },
     "execution_count": 53,
     "metadata": {},
     "output_type": "execute_result"
    }
   ],
   "source": [
    "second()"
   ]
  },
  {
   "cell_type": "markdown",
   "metadata": {},
   "source": [
    "## Simple Decorators\n",
    "\n",
    "Decorators are called \"decorator\" because they modify a function to fit within another function, very similar to the inner-function. The decorator can then be used to decide what the input arguments of the regular function should be, to use the regular function in a sequence of changing input values, or whether or not to use the regular function."
   ]
  },
  {
   "cell_type": "code",
   "execution_count": 58,
   "metadata": {},
   "outputs": [
    {
     "name": "stdout",
     "output_type": "stream",
     "text": [
      "Something is happening before the function is called.\n",
      "Whee!\n",
      "Something is happening after the function is called.\n"
     ]
    }
   ],
   "source": [
    "def decorator(func):\n",
    "    def wrapper():\n",
    "        print(\"Something is happening before the function is called.\")\n",
    "        func()\n",
    "        print(\"Something is happening after the function is called.\")\n",
    "    return wrapper\n",
    "\n",
    "def say_whee():\n",
    "    print(\"Whee!\")\n",
    "\n",
    "say_whee = decorator(say_whee)\n",
    "\n",
    "say_whee()"
   ]
  },
  {
   "cell_type": "markdown",
   "metadata": {},
   "source": [
    "In this example, the decorator is used to make actions before and after the regular function is applied.\n",
    "Put simply, a decorator wraps a function, modifying its behavior.\n",
    "\n",
    "Here is a more practical example of the decorator:"
   ]
  },
  {
   "cell_type": "code",
   "execution_count": 59,
   "metadata": {},
   "outputs": [
    {
     "name": "stdout",
     "output_type": "stream",
     "text": [
      "<built-in method now of type object at 0x00007FFF21D49330>\n",
      "Whee!\n",
      "None\n"
     ]
    }
   ],
   "source": [
    "from datetime import datetime\n",
    "\n",
    "def not_during_the_night(func):\n",
    "    def wrapper():\n",
    "        if 7 <= datetime.now().hour < 22:\n",
    "            func()\n",
    "        else:\n",
    "            pass  # Hush, the neighbors are asleep\n",
    "    return wrapper\n",
    "\n",
    "def say_whee():\n",
    "    print(\"Whee!\")\n",
    "\n",
    "say_whee = not_during_the_night(say_whee)\n",
    "\n",
    "print(datetime.now)\n",
    "print(say_whee())"
   ]
  },
  {
   "cell_type": "markdown",
   "metadata": {},
   "source": [
    "## Using @ to simplify the decorator\n",
    "\n",
    "The code to call upon the decorator to wrap the regular function is a bit messy. To simplify the code it is possible to simplify the code with the `@` symbol called the *pie syntax*. The following examples does the exact same thing as the examples above:"
   ]
  },
  {
   "cell_type": "code",
   "execution_count": 61,
   "metadata": {},
   "outputs": [
    {
     "name": "stdout",
     "output_type": "stream",
     "text": [
      "Something is happening before the function is called.\n",
      "Whee!\n",
      "Something is happening after the function is called.\n"
     ]
    }
   ],
   "source": [
    "@decorator\n",
    "def say_whee():\n",
    "    print(\"Whee!\")\n",
    "\n",
    "say_whee()"
   ]
  },
  {
   "cell_type": "code",
   "execution_count": 62,
   "metadata": {},
   "outputs": [
    {
     "name": "stdout",
     "output_type": "stream",
     "text": [
      "Whee!\n"
     ]
    }
   ],
   "source": [
    "@not_during_the_night\n",
    "def say_whee():\n",
    "    print(\"Whee!\")\n",
    "\n",
    "say_whee()"
   ]
  },
  {
   "cell_type": "code",
   "execution_count": 63,
   "metadata": {},
   "outputs": [
    {
     "name": "stdout",
     "output_type": "stream",
     "text": [
      "Whee!\n",
      "Whee!\n"
     ]
    }
   ],
   "source": [
    "def do_twice(func):\n",
    "    def wrapper_to_do_twice():\n",
    "        func()\n",
    "        func()\n",
    "    return wrapper_to_do_twice\n",
    "\n",
    "@do_twice\n",
    "def say_whee():\n",
    "    print(\"Whee!\")\n",
    "\n",
    "say_whee()"
   ]
  },
  {
   "cell_type": "markdown",
   "metadata": {},
   "source": [
    "## Return vs. Yield\n",
    "\n",
    "When creating (defining) a function, there are several ways of sending or displaying values:\n",
    "\n",
    "* The `print()` function is the most basic function which doesn't send values to its caller, but rather displays the value for the operator to see.\n",
    "* The `return` statement sends the specified value back to its caller and exit the function without executing any code after the statement that is within the function.\n",
    "* The `yield` statement is to produce a sequence of values to be sent back to its caller. It makes it possible to do multiple iterations over a sequence without storing the entire sequence in memory. Yield is used in **Python generators**. A generator function is defined like a normal function, but whenever it needs to generate a value, it does so with the yield keyword rather than return. If the body of a def contains a yield, the function automatically becomes a generator function."
   ]
  },
  {
   "cell_type": "markdown",
   "metadata": {},
   "source": [
    "Here are two examples: One function contains multiple `return` statement, and the other contains multiple `yield` statements. "
   ]
  },
  {
   "cell_type": "code",
   "execution_count": 23,
   "metadata": {},
   "outputs": [],
   "source": [
    "\n",
    "def return_func():\n",
    "    return 1\n",
    "    return 2\n",
    "    return 3\n",
    "\n",
    "def yield_func():\n",
    "    yield 1\n",
    "    yield 2\n",
    "    yield 3"
   ]
  },
  {
   "cell_type": "code",
   "execution_count": 26,
   "metadata": {},
   "outputs": [
    {
     "data": {
      "text/plain": [
       "1"
      ]
     },
     "execution_count": 26,
     "metadata": {},
     "output_type": "execute_result"
    }
   ],
   "source": [
    "return_func()"
   ]
  },
  {
   "cell_type": "code",
   "execution_count": 24,
   "metadata": {},
   "outputs": [
    {
     "ename": "TypeError",
     "evalue": "'int' object is not iterable",
     "output_type": "error",
     "traceback": [
      "\u001b[1;31m---------------------------------------------------------------------------\u001b[0m",
      "\u001b[1;31mTypeError\u001b[0m                                 Traceback (most recent call last)",
      "Cell \u001b[1;32mIn[24], line 1\u001b[0m\n\u001b[1;32m----> 1\u001b[0m \u001b[38;5;28;43;01mfor\u001b[39;49;00m\u001b[43m \u001b[49m\u001b[43mi\u001b[49m\u001b[43m \u001b[49m\u001b[38;5;129;43;01min\u001b[39;49;00m\u001b[43m \u001b[49m\u001b[43mreturn_func\u001b[49m\u001b[43m(\u001b[49m\u001b[43m)\u001b[49m\u001b[43m:\u001b[49m\n\u001b[0;32m      2\u001b[0m \u001b[43m    \u001b[49m\u001b[38;5;28;43mprint\u001b[39;49m\u001b[43m(\u001b[49m\u001b[43mi\u001b[49m\u001b[43m)\u001b[49m\n",
      "\u001b[1;31mTypeError\u001b[0m: 'int' object is not iterable"
     ]
    }
   ],
   "source": [
    "for i in return_func():\n",
    "    print(i)"
   ]
  },
  {
   "cell_type": "markdown",
   "metadata": {},
   "source": [
    "Note that the `return_func()` only returns the first value of the function and ignores the rest of the return statements, and it cannot be used to return the other values in a for-loop. "
   ]
  },
  {
   "cell_type": "code",
   "execution_count": 29,
   "metadata": {},
   "outputs": [
    {
     "data": {
      "text/plain": [
       "<generator object yield_func at 0x000002574A933320>"
      ]
     },
     "execution_count": 29,
     "metadata": {},
     "output_type": "execute_result"
    }
   ],
   "source": [
    "yield_func()"
   ]
  },
  {
   "cell_type": "code",
   "execution_count": 25,
   "metadata": {},
   "outputs": [
    {
     "name": "stdout",
     "output_type": "stream",
     "text": [
      "1\n",
      "2\n",
      "3\n"
     ]
    }
   ],
   "source": [
    "for i in yield_func():\n",
    "    print(i)"
   ]
  },
  {
   "cell_type": "markdown",
   "metadata": {},
   "source": [
    "The `yield` function however doesn't return its values when we call for it. This is because the function has become a **generator**, which requires the function to be used in a sequence as show above. Here is a more practical use-case for the function: "
   ]
  },
  {
   "cell_type": "code",
   "execution_count": 30,
   "metadata": {},
   "outputs": [],
   "source": [
    "def squaring_sequence(thres:int|float):\n",
    "\n",
    "    \"\"\"\n",
    "    Returns a sequence of squares until it reaches a specified threshold.\n",
    "\n",
    "    Arg(s):\n",
    "\n",
    "    thres: (int/float) A threshold to end the squaring sequence\n",
    "    \"\"\"\n",
    "\n",
    "    i = 1\n",
    "\n",
    "    # A loop that continues until it reaches the threshold\n",
    "    while i < thres:\n",
    "        yield i * i\n",
    "        i += 1\n"
   ]
  },
  {
   "cell_type": "code",
   "execution_count": 43,
   "metadata": {},
   "outputs": [
    {
     "name": "stdout",
     "output_type": "stream",
     "text": [
      "1\n",
      "4\n",
      "9\n",
      "16\n",
      "25\n",
      "36\n",
      "49\n",
      "64\n",
      "81\n"
     ]
    }
   ],
   "source": [
    "for num in squaring_sequence(10):\n",
    "    print(num)"
   ]
  },
  {
   "cell_type": "code",
   "execution_count": 65,
   "metadata": {},
   "outputs": [
    {
     "data": {
      "text/plain": [
       "'squaring_sequence'"
      ]
     },
     "execution_count": 65,
     "metadata": {},
     "output_type": "execute_result"
    }
   ],
   "source": [
    "squaring_sequence.__name__"
   ]
  },
  {
   "cell_type": "markdown",
   "metadata": {},
   "source": [
    "## Using `__name__ == \"__main__\"`\n",
    "\n",
    "In Python, this construct is normally used within an if statement to determine whether the code is being run directly in a notebook or if the code is being imported as a module into another script. This allows us to specify if certain codes should be executed only when the script is being run directly, not when it is imported.\n",
    "\n",
    "`__name__` is a specially built-in variable in Python. When `__name__` is set to `\"__main__\"`, it means that the script is being run directly. When a script is being imported as a module in another script, `__name__` is set to the name of the module."
   ]
  },
  {
   "cell_type": "code",
   "execution_count": 66,
   "metadata": {},
   "outputs": [
    {
     "name": "stdout",
     "output_type": "stream",
     "text": [
      "This is the main function.\n"
     ]
    }
   ],
   "source": [
    "def main():\n",
    "    print(\"This is the main function.\")\n",
    "\n",
    "def another_function():\n",
    "    print(\"This is another function.\")\n",
    "\n",
    "if __name__ == \"__main__\":\n",
    "    main()"
   ]
  },
  {
   "cell_type": "code",
   "execution_count": 68,
   "metadata": {},
   "outputs": [
    {
     "name": "stdout",
     "output_type": "stream",
     "text": [
      "This is an imported function\n"
     ]
    }
   ],
   "source": [
    "from example import imported_function\n",
    "\n",
    "imported_function()"
   ]
  },
  {
   "cell_type": "code",
   "execution_count": null,
   "metadata": {},
   "outputs": [],
   "source": []
  }
 ],
 "metadata": {
  "kernelspec": {
   "display_name": ".venv",
   "language": "python",
   "name": "python3"
  },
  "language_info": {
   "codemirror_mode": {
    "name": "ipython",
    "version": 3
   },
   "file_extension": ".py",
   "mimetype": "text/x-python",
   "name": "python",
   "nbconvert_exporter": "python",
   "pygments_lexer": "ipython3",
   "version": "3.12.3"
  }
 },
 "nbformat": 4,
 "nbformat_minor": 2
}
